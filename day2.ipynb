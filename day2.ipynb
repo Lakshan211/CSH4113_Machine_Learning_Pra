{
 "cells": [
  {
   "cell_type": "code",
   "execution_count": 1,
   "id": "55687ca9",
   "metadata": {},
   "outputs": [
    {
     "name": "stdout",
     "output_type": "stream",
     "text": [
      "Hello\n"
     ]
    }
   ],
   "source": [
    "print(\"Hello\")"
   ]
  },
  {
   "cell_type": "code",
   "execution_count": 2,
   "id": "e9b4421e",
   "metadata": {},
   "outputs": [],
   "source": [
    "x=[1,2,3,4,5]"
   ]
  },
  {
   "cell_type": "code",
   "execution_count": 3,
   "id": "b20602b1",
   "metadata": {},
   "outputs": [],
   "source": [
    "import numpy as np\n",
    "x=np.array([1,2,3,4,5])"
   ]
  },
  {
   "cell_type": "code",
   "execution_count": 4,
   "id": "bda67a65",
   "metadata": {},
   "outputs": [
    {
     "name": "stdout",
     "output_type": "stream",
     "text": [
      "[1 2 3 4 5]\n"
     ]
    }
   ],
   "source": [
    "print(x)"
   ]
  },
  {
   "cell_type": "code",
   "execution_count": 6,
   "id": "71124981",
   "metadata": {},
   "outputs": [],
   "source": [
    "m=np.array([[1,5,2],\n",
    "          [4,7,4],\n",
    "          [2,0,9]])"
   ]
  },
  {
   "cell_type": "code",
   "execution_count": 7,
   "id": "9645c3a6",
   "metadata": {},
   "outputs": [
    {
     "name": "stdout",
     "output_type": "stream",
     "text": [
      "[[1 5 2]\n",
      " [4 7 4]\n",
      " [2 0 9]]\n"
     ]
    }
   ],
   "source": [
    "print(m)"
   ]
  },
  {
   "cell_type": "code",
   "execution_count": 11,
   "id": "eead06ea",
   "metadata": {},
   "outputs": [
    {
     "name": "stdout",
     "output_type": "stream",
     "text": [
      "matrix Transpose:\n",
      " [[1 4 2]\n",
      " [5 7 0]\n",
      " [2 4 9]] \n",
      "\n",
      "matrix determinant:\n",
      " -105.00000000000006 \n",
      "\n",
      "matrix Inverse:\n",
      " [[-0.6         0.42857143 -0.05714286]\n",
      " [ 0.26666667 -0.04761905 -0.03809524]\n",
      " [ 0.13333333 -0.0952381   0.12380952]] \n",
      "\n",
      "product of matrix and its inverse:\n",
      " [[1. 0. 0.]\n",
      " [0. 1. 0.]\n",
      " [0. 0. 1.]]\n"
     ]
    }
   ],
   "source": [
    "print('matrix Transpose:\\n',m.transpose(),'\\n')\n",
    "print('matrix determinant:\\n',np.linalg.det(m),'\\n')\n",
    "m_inv=np.linalg.inv(m)\n",
    "print('matrix Inverse:\\n',m_inv,'\\n')\n",
    "iden_m=np.dot(m,m_inv)\n",
    "iden_m=np.round(np.abs(iden_m),0)\n",
    "print('product of matrix and its inverse:\\n',iden_m)"
   ]
  },
  {
   "cell_type": "code",
   "execution_count": 16,
   "id": "58c4b285",
   "metadata": {},
   "outputs": [
    {
     "name": "stdout",
     "output_type": "stream",
     "text": [
      "Eigen values \n",
      " [-1.32455532 11.32455532  7.        ] \n",
      "\n",
      "Eigen vector \n",
      " [[-0.91761521  0.46120352 -0.46829291]\n",
      " [ 0.35550789  0.79362022 -0.74926865]\n",
      " [ 0.17775394  0.39681011  0.46829291]] \n",
      "\n"
     ]
    }
   ],
   "source": [
    "eigen_vals,eigen_vecs=np.linalg.eig(m)\n",
    "print('Eigen values','\\n',eigen_vals,'\\n')\n",
    "print('Eigen vector','\\n',eigen_vecs,'\\n')"
   ]
  },
  {
   "cell_type": "code",
   "execution_count": 17,
   "id": "97e24b0e",
   "metadata": {},
   "outputs": [
    {
     "name": "stdout",
     "output_type": "stream",
     "text": [
      "getting svd outputs:\n",
      "\n",
      "U:\n",
      " [[ 0.3831556  -0.39279153  0.83600634]\n",
      " [ 0.68811254 -0.48239977 -0.54202545]\n",
      " [ 0.61619228  0.78294653  0.0854506 ]] \n",
      "\n",
      "S:\n",
      " [12.10668383  6.91783499  1.25370079] \n",
      "\n",
      "VT:\n",
      " [[ 0.36079164  0.55610321  0.74871798]\n",
      " [-0.10935467 -0.7720271   0.62611158]\n",
      " [-0.92621323  0.30777163  0.21772844]] \n",
      "\n"
     ]
    }
   ],
   "source": [
    "U,S,VT=np.linalg.svd(m)\n",
    "print(\"getting svd outputs:\\n\")\n",
    "print(\"U:\\n\",U,\"\\n\")\n",
    "print(\"S:\\n\",S,\"\\n\")\n",
    "print(\"VT:\\n\",VT,\"\\n\")"
   ]
  },
  {
   "cell_type": "code",
   "execution_count": 18,
   "id": "7ff554ee",
   "metadata": {},
   "outputs": [
    {
     "name": "stdout",
     "output_type": "stream",
     "text": [
      "[[0. 0. 0.]\n",
      " [0. 0. 0.]]\n"
     ]
    }
   ],
   "source": [
    "zeros_array=np.zeros((2,3))\n",
    "print(zeros_array)"
   ]
  },
  {
   "cell_type": "code",
   "execution_count": 19,
   "id": "ad7c753e",
   "metadata": {},
   "outputs": [
    {
     "name": "stdout",
     "output_type": "stream",
     "text": [
      "[[1 1 1 1 1]]\n"
     ]
    }
   ],
   "source": [
    "ones_array=np.ones((1,5),dtype=np.int32)\n",
    "print(ones_array)"
   ]
  },
  {
   "cell_type": "code",
   "execution_count": 20,
   "id": "178533b1",
   "metadata": {},
   "outputs": [],
   "source": [
    "### ramdom variables"
   ]
  },
  {
   "cell_type": "code",
   "execution_count": 26,
   "id": "c7dc1b73",
   "metadata": {},
   "outputs": [],
   "source": [
    "#descriptive statistics\n",
    "import scipy as sp\n",
    "import numpy as np"
   ]
  },
  {
   "cell_type": "code",
   "execution_count": 54,
   "id": "1f638473",
   "metadata": {},
   "outputs": [
    {
     "name": "stdout",
     "output_type": "stream",
     "text": [
      "Data: [ 3 16  1  8  2 19  1 12  8 15 16  6 19  3 18]\n"
     ]
    }
   ],
   "source": [
    "#get data\n",
    "nums=np.random.randint(1,20,size=(1,15))[0]  #generate a 1_dimensional Numpy array containing 15 rand\n",
    "print('Data:',nums)"
   ]
  },
  {
   "cell_type": "code",
   "execution_count": 55,
   "id": "a5a0b22e",
   "metadata": {},
   "outputs": [
    {
     "name": "stdout",
     "output_type": "stream",
     "text": [
      "mean:  9.8\n",
      "median:  8.0\n"
     ]
    }
   ],
   "source": [
    "print('mean: ',np.mean(nums))\n",
    "print('median: ',np.median(nums))"
   ]
  },
  {
   "cell_type": "code",
   "execution_count": 56,
   "id": "130bac50",
   "metadata": {},
   "outputs": [
    {
     "name": "stdout",
     "output_type": "stream",
     "text": [
      "3\n"
     ]
    }
   ],
   "source": [
    "from statistics import mode\n",
    "r=mode(nums)\n",
    "print(r)"
   ]
  },
  {
   "cell_type": "code",
   "execution_count": 59,
   "id": "6d213b6e",
   "metadata": {},
   "outputs": [
    {
     "name": "stdout",
     "output_type": "stream",
     "text": [
      "Standerd Deviation:  6.705221845696084\n",
      "Variance:  44.96\n",
      "Skew:  0.04505969202356173\n",
      "Kurtosis:  -1.5897531692861036\n"
     ]
    }
   ],
   "source": [
    "print('Standerd Deviation: ',np.std(nums))\n",
    "print('Variance: ',np.var(nums))\n",
    "print('Skew: ',sp.stats.skew(nums))\n",
    "print('Kurtosis: ',sp.stats.kurtosis(nums))"
   ]
  },
  {
   "cell_type": "code",
   "execution_count": 61,
   "id": "4f6dc355",
   "metadata": {},
   "outputs": [],
   "source": [
    "#Exercise 1\n",
    "#write a code to generate 3 ramdom integers between 100 and 999 which is divisible by 5"
   ]
  },
  {
   "cell_type": "code",
   "execution_count": 62,
   "id": "5011b7d4",
   "metadata": {},
   "outputs": [],
   "source": [
    "#Exercise 2\n",
    "#write a code to generate 100 random lottery tickets and pick two lucky tickets from it as a winner.\n",
    "\n",
    "#The lottery number must be 10 digits long.\n",
    "#All 100 ticket number must be unique\n",
    "#generate a random list of 1000 number using randrange() method to pick lucky 2 tickets."
   ]
  },
  {
   "cell_type": "code",
   "execution_count": null,
   "id": "de6c7bc8",
   "metadata": {},
   "outputs": [],
   "source": [
    "#Exercise 3\n",
    "#Write a code to genarete a rondom password which meets"
   ]
  }
 ],
 "metadata": {
  "kernelspec": {
   "display_name": "Python 3 (ipykernel)",
   "language": "python",
   "name": "python3"
  },
  "language_info": {
   "codemirror_mode": {
    "name": "ipython",
    "version": 3
   },
   "file_extension": ".py",
   "mimetype": "text/x-python",
   "name": "python",
   "nbconvert_exporter": "python",
   "pygments_lexer": "ipython3",
   "version": "3.9.13"
  }
 },
 "nbformat": 4,
 "nbformat_minor": 5
}
